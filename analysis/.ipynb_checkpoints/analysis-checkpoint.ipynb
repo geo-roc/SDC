{
 "cells": [
  {
   "cell_type": "code",
   "execution_count": 5,
   "metadata": {
    "ExecuteTime": {
     "end_time": "2019-05-11T12:47:19.319956Z",
     "start_time": "2019-05-11T12:47:19.267242Z"
    }
   },
   "outputs": [
    {
     "name": "stdout",
     "output_type": "stream",
     "text": [
      "RMS error on x 1.581434091601069\n",
      "RMS error on y 1.0546344485336903\n",
      "RMS error on L2 distance(xy) 1.9008386586220463\n"
     ]
    }
   ],
   "source": [
    "import os, math\n",
    "def L2_distance(p1, p2):\n",
    "    return math.sqrt((p1[0]-p2[0])**2 + (p1[1]-p2[1])**2)\n",
    "def calc_RMS(es):\n",
    "    sum_e = 0\n",
    "    for e in es:\n",
    "        sum_e += e*e\n",
    "    return math.sqrt(sum_e/len(es))\n",
    "errx = []\n",
    "erry = []\n",
    "errxy = []\n",
    "path = '../data/'\n",
    "for i in range(11):\n",
    "    fx = open(path+str(i)+\".datax.res\")\n",
    "    fy = open(path+str(i)+\".datay.res\")\n",
    "    linex = fx.readlines()\n",
    "    liney = fy.readlines()\n",
    "    for j in range(len(linex)):\n",
    "        dxs = linex[j].split(' ')\n",
    "        dxs = [float(d) for d in dxs]\n",
    "        errx += [dxs[0] - dxs[1]]\n",
    "        dys = liney[j].split(' ')\n",
    "        dys = [float(d) for d in dys]\n",
    "        erry += [dys[0] - dys[1]]\n",
    "        errxy += [math.sqrt(errx[-1]**2 + erry[-1]**2)]\n",
    "        \n",
    "print(\"RMS error on x:\",calc_RMS(errx))\n",
    "print(\"RMS error on y:\", calc_RMS(erry))\n",
    "print(\"RMS error on L2 distance(xy):\", calc_RMS(errxy))"
   ]
  },
  {
   "cell_type": "code",
   "execution_count": null,
   "metadata": {},
   "outputs": [],
   "source": []
  }
 ],
 "metadata": {
  "kernelspec": {
   "display_name": "Python 3",
   "language": "python",
   "name": "python3"
  },
  "language_info": {
   "codemirror_mode": {
    "name": "ipython",
    "version": 3
   },
   "file_extension": ".py",
   "mimetype": "text/x-python",
   "name": "python",
   "nbconvert_exporter": "python",
   "pygments_lexer": "ipython3",
   "version": "3.7.3"
  }
 },
 "nbformat": 4,
 "nbformat_minor": 2
}
